{
 "cells": [
  {
   "cell_type": "code",
   "execution_count": 1,
   "id": "e7fec5e6-84c1-46d7-a344-e44ee29de187",
   "metadata": {},
   "outputs": [],
   "source": [
    "import pandas as pd\n",
    "pd.set_option(\"display.max_columns\",55)\n",
    "\n",
    "from sklearn.linear_model import LinearRegression\n",
    "from sklearn.model_selection import train_test_split\n",
    "from sklearn.metrics import r2_score, mean_squared_error\n",
    "\n",
    "import matplotlib.pyplot as plt\n",
    "import seaborn as sns\n",
    "\n",
    "from sklearn.linear_model import Ridge, Lasso, ElasticNet"
   ]
  },
  {
   "cell_type": "code",
   "execution_count": 2,
   "id": "bef78cf4-cde3-416e-8741-b194e1802452",
   "metadata": {},
   "outputs": [],
   "source": [
    "df=pd.read_csv(\"kc_house_data.csv\")"
   ]
  },
  {
   "cell_type": "code",
   "execution_count": 3,
   "id": "35d7a5ff-df41-4c04-907e-4907390dd5ea",
   "metadata": {},
   "outputs": [
    {
     "data": {
      "text/html": [
       "<div>\n",
       "<style scoped>\n",
       "    .dataframe tbody tr th:only-of-type {\n",
       "        vertical-align: middle;\n",
       "    }\n",
       "\n",
       "    .dataframe tbody tr th {\n",
       "        vertical-align: top;\n",
       "    }\n",
       "\n",
       "    .dataframe thead th {\n",
       "        text-align: right;\n",
       "    }\n",
       "</style>\n",
       "<table border=\"1\" class=\"dataframe\">\n",
       "  <thead>\n",
       "    <tr style=\"text-align: right;\">\n",
       "      <th></th>\n",
       "      <th>id</th>\n",
       "      <th>date</th>\n",
       "      <th>price</th>\n",
       "      <th>bedrooms</th>\n",
       "      <th>bathrooms</th>\n",
       "      <th>sqft_living</th>\n",
       "      <th>sqft_lot</th>\n",
       "      <th>floors</th>\n",
       "      <th>waterfront</th>\n",
       "      <th>view</th>\n",
       "      <th>condition</th>\n",
       "      <th>grade</th>\n",
       "      <th>sqft_above</th>\n",
       "      <th>sqft_basement</th>\n",
       "      <th>yr_built</th>\n",
       "      <th>yr_renovated</th>\n",
       "      <th>zipcode</th>\n",
       "      <th>lat</th>\n",
       "      <th>long</th>\n",
       "      <th>sqft_living15</th>\n",
       "      <th>sqft_lot15</th>\n",
       "    </tr>\n",
       "  </thead>\n",
       "  <tbody>\n",
       "    <tr>\n",
       "      <th>0</th>\n",
       "      <td>7129300520</td>\n",
       "      <td>20141013T000000</td>\n",
       "      <td>221900.0</td>\n",
       "      <td>3</td>\n",
       "      <td>1.00</td>\n",
       "      <td>1180</td>\n",
       "      <td>5650</td>\n",
       "      <td>1.0</td>\n",
       "      <td>0</td>\n",
       "      <td>0</td>\n",
       "      <td>3</td>\n",
       "      <td>7</td>\n",
       "      <td>1180</td>\n",
       "      <td>0</td>\n",
       "      <td>1955</td>\n",
       "      <td>0</td>\n",
       "      <td>98178</td>\n",
       "      <td>47.5112</td>\n",
       "      <td>-122.257</td>\n",
       "      <td>1340</td>\n",
       "      <td>5650</td>\n",
       "    </tr>\n",
       "    <tr>\n",
       "      <th>1</th>\n",
       "      <td>6414100192</td>\n",
       "      <td>20141209T000000</td>\n",
       "      <td>538000.0</td>\n",
       "      <td>3</td>\n",
       "      <td>2.25</td>\n",
       "      <td>2570</td>\n",
       "      <td>7242</td>\n",
       "      <td>2.0</td>\n",
       "      <td>0</td>\n",
       "      <td>0</td>\n",
       "      <td>3</td>\n",
       "      <td>7</td>\n",
       "      <td>2170</td>\n",
       "      <td>400</td>\n",
       "      <td>1951</td>\n",
       "      <td>1991</td>\n",
       "      <td>98125</td>\n",
       "      <td>47.7210</td>\n",
       "      <td>-122.319</td>\n",
       "      <td>1690</td>\n",
       "      <td>7639</td>\n",
       "    </tr>\n",
       "    <tr>\n",
       "      <th>2</th>\n",
       "      <td>5631500400</td>\n",
       "      <td>20150225T000000</td>\n",
       "      <td>180000.0</td>\n",
       "      <td>2</td>\n",
       "      <td>1.00</td>\n",
       "      <td>770</td>\n",
       "      <td>10000</td>\n",
       "      <td>1.0</td>\n",
       "      <td>0</td>\n",
       "      <td>0</td>\n",
       "      <td>3</td>\n",
       "      <td>6</td>\n",
       "      <td>770</td>\n",
       "      <td>0</td>\n",
       "      <td>1933</td>\n",
       "      <td>0</td>\n",
       "      <td>98028</td>\n",
       "      <td>47.7379</td>\n",
       "      <td>-122.233</td>\n",
       "      <td>2720</td>\n",
       "      <td>8062</td>\n",
       "    </tr>\n",
       "    <tr>\n",
       "      <th>3</th>\n",
       "      <td>2487200875</td>\n",
       "      <td>20141209T000000</td>\n",
       "      <td>604000.0</td>\n",
       "      <td>4</td>\n",
       "      <td>3.00</td>\n",
       "      <td>1960</td>\n",
       "      <td>5000</td>\n",
       "      <td>1.0</td>\n",
       "      <td>0</td>\n",
       "      <td>0</td>\n",
       "      <td>5</td>\n",
       "      <td>7</td>\n",
       "      <td>1050</td>\n",
       "      <td>910</td>\n",
       "      <td>1965</td>\n",
       "      <td>0</td>\n",
       "      <td>98136</td>\n",
       "      <td>47.5208</td>\n",
       "      <td>-122.393</td>\n",
       "      <td>1360</td>\n",
       "      <td>5000</td>\n",
       "    </tr>\n",
       "    <tr>\n",
       "      <th>4</th>\n",
       "      <td>1954400510</td>\n",
       "      <td>20150218T000000</td>\n",
       "      <td>510000.0</td>\n",
       "      <td>3</td>\n",
       "      <td>2.00</td>\n",
       "      <td>1680</td>\n",
       "      <td>8080</td>\n",
       "      <td>1.0</td>\n",
       "      <td>0</td>\n",
       "      <td>0</td>\n",
       "      <td>3</td>\n",
       "      <td>8</td>\n",
       "      <td>1680</td>\n",
       "      <td>0</td>\n",
       "      <td>1987</td>\n",
       "      <td>0</td>\n",
       "      <td>98074</td>\n",
       "      <td>47.6168</td>\n",
       "      <td>-122.045</td>\n",
       "      <td>1800</td>\n",
       "      <td>7503</td>\n",
       "    </tr>\n",
       "  </tbody>\n",
       "</table>\n",
       "</div>"
      ],
      "text/plain": [
       "           id             date     price  bedrooms  bathrooms  sqft_living  \\\n",
       "0  7129300520  20141013T000000  221900.0         3       1.00         1180   \n",
       "1  6414100192  20141209T000000  538000.0         3       2.25         2570   \n",
       "2  5631500400  20150225T000000  180000.0         2       1.00          770   \n",
       "3  2487200875  20141209T000000  604000.0         4       3.00         1960   \n",
       "4  1954400510  20150218T000000  510000.0         3       2.00         1680   \n",
       "\n",
       "   sqft_lot  floors  waterfront  view  condition  grade  sqft_above  \\\n",
       "0      5650     1.0           0     0          3      7        1180   \n",
       "1      7242     2.0           0     0          3      7        2170   \n",
       "2     10000     1.0           0     0          3      6         770   \n",
       "3      5000     1.0           0     0          5      7        1050   \n",
       "4      8080     1.0           0     0          3      8        1680   \n",
       "\n",
       "   sqft_basement  yr_built  yr_renovated  zipcode      lat     long  \\\n",
       "0              0      1955             0    98178  47.5112 -122.257   \n",
       "1            400      1951          1991    98125  47.7210 -122.319   \n",
       "2              0      1933             0    98028  47.7379 -122.233   \n",
       "3            910      1965             0    98136  47.5208 -122.393   \n",
       "4              0      1987             0    98074  47.6168 -122.045   \n",
       "\n",
       "   sqft_living15  sqft_lot15  \n",
       "0           1340        5650  \n",
       "1           1690        7639  \n",
       "2           2720        8062  \n",
       "3           1360        5000  \n",
       "4           1800        7503  "
      ]
     },
     "execution_count": 3,
     "metadata": {},
     "output_type": "execute_result"
    }
   ],
   "source": [
    "df.head()"
   ]
  },
  {
   "cell_type": "code",
   "execution_count": 4,
   "id": "57806402-ecd8-407e-93da-4d9dd60e32df",
   "metadata": {},
   "outputs": [
    {
     "data": {
      "text/plain": [
       "(21613, 21)"
      ]
     },
     "execution_count": 4,
     "metadata": {},
     "output_type": "execute_result"
    }
   ],
   "source": [
    "df.shape"
   ]
  },
  {
   "cell_type": "code",
   "execution_count": 5,
   "id": "64058e81-5320-4905-a3f5-a701844aeb28",
   "metadata": {},
   "outputs": [
    {
     "data": {
      "text/plain": [
       "price            1.000000\n",
       "sqft_living      0.702035\n",
       "grade            0.667434\n",
       "sqft_above       0.605567\n",
       "sqft_living15    0.585379\n",
       "bathrooms        0.525138\n",
       "view             0.397293\n",
       "sqft_basement    0.323816\n",
       "bedrooms         0.308350\n",
       "lat              0.307003\n",
       "waterfront       0.266369\n",
       "floors           0.256794\n",
       "yr_renovated     0.126434\n",
       "sqft_lot         0.089661\n",
       "sqft_lot15       0.082447\n",
       "yr_built         0.054012\n",
       "condition        0.036362\n",
       "long             0.021626\n",
       "id               0.016762\n",
       "zipcode          0.053203\n",
       "Name: price, dtype: float64"
      ]
     },
     "execution_count": 5,
     "metadata": {},
     "output_type": "execute_result"
    }
   ],
   "source": [
    "abs(df.corr(numeric_only=True)['price'].sort_values(ascending=False))"
   ]
  },
  {
   "cell_type": "code",
   "execution_count": 6,
   "id": "1cbd218e-0d95-4ea5-8593-66ec0e48e9db",
   "metadata": {},
   "outputs": [],
   "source": [
    "df['age']=2024-df['yr_built']"
   ]
  },
  {
   "cell_type": "code",
   "execution_count": null,
   "id": "e1a6f9d7-f4e9-44e8-9b1c-c64099033e53",
   "metadata": {},
   "outputs": [],
   "source": []
  },
  {
   "cell_type": "code",
   "execution_count": 7,
   "id": "a403ea59-63e6-4d30-bd56-4d806da8b082",
   "metadata": {},
   "outputs": [],
   "source": [
    "df['zipcode']=df['zipcode'].astype('category')"
   ]
  },
  {
   "cell_type": "code",
   "execution_count": 8,
   "id": "6f930703-f11d-486c-80d3-1a80c1769fe9",
   "metadata": {},
   "outputs": [
    {
     "data": {
      "text/plain": [
       "0    98178\n",
       "1    98125\n",
       "2    98028\n",
       "3    98136\n",
       "4    98074\n",
       "Name: zipcode, dtype: category\n",
       "Categories (70, int64): [98001, 98002, 98003, 98004, ..., 98178, 98188, 98198, 98199]"
      ]
     },
     "execution_count": 8,
     "metadata": {},
     "output_type": "execute_result"
    }
   ],
   "source": [
    "df[\"zipcode\"].head()"
   ]
  },
  {
   "cell_type": "code",
   "execution_count": 9,
   "id": "decc75a8-8088-403f-adf7-53d32385ab9a",
   "metadata": {},
   "outputs": [],
   "source": [
    "df=df[df['bedrooms']<10]"
   ]
  },
  {
   "cell_type": "code",
   "execution_count": 10,
   "id": "5b8c8463-14f7-4f37-bd69-4544c28d024f",
   "metadata": {},
   "outputs": [],
   "source": [
    "x=df[['sqft_living','grade','sqft_above','sqft_living15','bathrooms','sqft_lot15','view','sqft_basement','bedrooms','lat','waterfront','floors','yr_renovated','grade','age']]"
   ]
  },
  {
   "cell_type": "code",
   "execution_count": 11,
   "id": "5f644389-5036-40e3-a1b6-57ef15744d49",
   "metadata": {},
   "outputs": [
    {
     "name": "stdout",
     "output_type": "stream",
     "text": [
      "<class 'pandas.core.frame.DataFrame'>\n",
      "Index: 21608 entries, 0 to 21612\n",
      "Data columns (total 15 columns):\n",
      " #   Column         Non-Null Count  Dtype  \n",
      "---  ------         --------------  -----  \n",
      " 0   sqft_living    21608 non-null  int64  \n",
      " 1   grade          21608 non-null  int64  \n",
      " 2   sqft_above     21608 non-null  int64  \n",
      " 3   sqft_living15  21608 non-null  int64  \n",
      " 4   bathrooms      21608 non-null  float64\n",
      " 5   sqft_lot15     21608 non-null  int64  \n",
      " 6   view           21608 non-null  int64  \n",
      " 7   sqft_basement  21608 non-null  int64  \n",
      " 8   bedrooms       21608 non-null  int64  \n",
      " 9   lat            21608 non-null  float64\n",
      " 10  waterfront     21608 non-null  int64  \n",
      " 11  floors         21608 non-null  float64\n",
      " 12  yr_renovated   21608 non-null  int64  \n",
      " 13  grade          21608 non-null  int64  \n",
      " 14  age            21608 non-null  int64  \n",
      "dtypes: float64(3), int64(12)\n",
      "memory usage: 2.6 MB\n"
     ]
    }
   ],
   "source": [
    "x.info()"
   ]
  },
  {
   "cell_type": "code",
   "execution_count": 12,
   "id": "4c359a30-aad2-465e-b38d-5d445165965a",
   "metadata": {},
   "outputs": [],
   "source": [
    "from sklearn.ensemble import ExtraTreesRegressor"
   ]
  },
  {
   "cell_type": "code",
   "execution_count": 13,
   "id": "66615544-0a36-475e-a259-98a4a10c6d2e",
   "metadata": {},
   "outputs": [],
   "source": [
    "ET=ExtraTreesRegressor()"
   ]
  },
  {
   "cell_type": "code",
   "execution_count": 14,
   "id": "3371e816-a12c-4334-a45a-aa0caf614f63",
   "metadata": {},
   "outputs": [],
   "source": [
    "y=df[[\"price\"]]"
   ]
  },
  {
   "cell_type": "code",
   "execution_count": 15,
   "id": "2ceb7992-da8d-4509-8f80-5b4baca02b9b",
   "metadata": {},
   "outputs": [
    {
     "data": {
      "text/plain": [
       "id               0\n",
       "date             0\n",
       "price            0\n",
       "bedrooms         0\n",
       "bathrooms        0\n",
       "sqft_living      0\n",
       "sqft_lot         0\n",
       "floors           0\n",
       "waterfront       0\n",
       "view             0\n",
       "condition        0\n",
       "grade            0\n",
       "sqft_above       0\n",
       "sqft_basement    0\n",
       "yr_built         0\n",
       "yr_renovated     0\n",
       "zipcode          0\n",
       "lat              0\n",
       "long             0\n",
       "sqft_living15    0\n",
       "sqft_lot15       0\n",
       "age              0\n",
       "dtype: int64"
      ]
     },
     "execution_count": 15,
     "metadata": {},
     "output_type": "execute_result"
    }
   ],
   "source": [
    "df.isnull().sum()"
   ]
  },
  {
   "cell_type": "code",
   "execution_count": 16,
   "id": "e3d45a7a-cca7-4b37-ac07-d1b63a2be447",
   "metadata": {},
   "outputs": [],
   "source": [
    "x_train,x_test,y_train,y_test=train_test_split(x,y,test_size=0.20,random_state=42)"
   ]
  },
  {
   "cell_type": "code",
   "execution_count": 17,
   "id": "8be9a602-4b76-4297-9abb-a2e0ec3ce433",
   "metadata": {},
   "outputs": [
    {
     "name": "stderr",
     "output_type": "stream",
     "text": [
      "C:\\Users\\dou\\anaconda3\\Lib\\site-packages\\sklearn\\base.py:1389: DataConversionWarning: A column-vector y was passed when a 1d array was expected. Please change the shape of y to (n_samples,), for example using ravel().\n",
      "  return fit_method(estimator, *args, **kwargs)\n"
     ]
    }
   ],
   "source": [
    "model=ET.fit(x_train,y_train)"
   ]
  },
  {
   "cell_type": "code",
   "execution_count": 18,
   "id": "f427a936-8fca-475b-815d-7f81bff9cdfc",
   "metadata": {},
   "outputs": [],
   "source": [
    "tahmin=ET.predict(x_test)"
   ]
  },
  {
   "cell_type": "code",
   "execution_count": 19,
   "id": "cd4fffc9-c05a-4762-9ea4-a27627fd0b53",
   "metadata": {},
   "outputs": [
    {
     "data": {
      "text/plain": [
       "168404.82519575598"
      ]
     },
     "execution_count": 19,
     "metadata": {},
     "output_type": "execute_result"
    }
   ],
   "source": [
    "mean_squared_error(y_test,tahmin)**0.5"
   ]
  },
  {
   "cell_type": "code",
   "execution_count": 20,
   "id": "c993aa7b-f23e-453b-9794-369f83c3caa5",
   "metadata": {},
   "outputs": [
    {
     "data": {
      "text/plain": [
       "0.8080292190722128"
      ]
     },
     "execution_count": 20,
     "metadata": {},
     "output_type": "execute_result"
    }
   ],
   "source": [
    "r2_score(y_test,tahmin)"
   ]
  },
  {
   "cell_type": "code",
   "execution_count": 21,
   "id": "11547621-4757-43e1-b994-baa0c262bb85",
   "metadata": {},
   "outputs": [],
   "source": [
    "df=df[df['bathrooms']<=5]"
   ]
  },
  {
   "cell_type": "code",
   "execution_count": 22,
   "id": "16bafe1a-d84c-4ad9-b417-c17ba539a548",
   "metadata": {},
   "outputs": [],
   "source": [
    "df=df[df['sqft_living']<6000]"
   ]
  },
  {
   "cell_type": "code",
   "execution_count": 23,
   "id": "d38c3903-1cb4-4839-80ac-261cc5d1d132",
   "metadata": {},
   "outputs": [],
   "source": [
    "df=df[df['view']<1]"
   ]
  },
  {
   "cell_type": "code",
   "execution_count": 24,
   "id": "00d4d267-a852-49c9-97b3-1b99230b92f1",
   "metadata": {},
   "outputs": [],
   "source": [
    "df=df[df['bedrooms']<=6]"
   ]
  },
  {
   "cell_type": "code",
   "execution_count": 25,
   "id": "356c3e18-93f6-4fb7-84a6-ed3e7371b0eb",
   "metadata": {},
   "outputs": [],
   "source": [
    "df=df[df['sqft_basement']<=1500]"
   ]
  },
  {
   "cell_type": "code",
   "execution_count": 26,
   "id": "84bf3e7a-0ffd-46d6-8c23-dfe3a89b9e37",
   "metadata": {},
   "outputs": [],
   "source": [
    "df=df[df['sqft_lot15']<=55000]"
   ]
  },
  {
   "cell_type": "code",
   "execution_count": 27,
   "id": "92b8fa00-7e0d-4dde-97d3-e92b9baf36db",
   "metadata": {},
   "outputs": [],
   "source": [
    "df=df[df['sqft_above']<4000]"
   ]
  },
  {
   "cell_type": "code",
   "execution_count": 28,
   "id": "f85b3521-69ab-4c24-8de5-4dd456652acc",
   "metadata": {},
   "outputs": [],
   "source": [
    "df=df[df['sqft_lot15']<=55000]"
   ]
  },
  {
   "cell_type": "code",
   "execution_count": 29,
   "id": "e97f4b5c-a857-4f32-816c-9ca3f4305ae4",
   "metadata": {},
   "outputs": [],
   "source": [
    "df=df[df['sqft_living15']<=4000]"
   ]
  },
  {
   "cell_type": "code",
   "execution_count": 30,
   "id": "45ee1819-45f0-49fe-8606-33f08ada04eb",
   "metadata": {},
   "outputs": [],
   "source": [
    "df=df[df['yr_renovated']<400]"
   ]
  },
  {
   "cell_type": "code",
   "execution_count": 31,
   "id": "e867b5ff-0402-4297-a097-127ee8200caf",
   "metadata": {},
   "outputs": [],
   "source": [
    "df=df[df['grade']>4]"
   ]
  },
  {
   "cell_type": "code",
   "execution_count": 32,
   "id": "f8fe35ba-1e2a-425f-b0be-1024769a6acd",
   "metadata": {},
   "outputs": [
    {
     "data": {
      "text/plain": [
       "price            1.000000\n",
       "grade            0.628397\n",
       "sqft_living      0.615132\n",
       "sqft_above       0.533955\n",
       "sqft_living15    0.530924\n",
       "bathrooms        0.437985\n",
       "lat              0.417931\n",
       "bedrooms         0.301595\n",
       "floors           0.279278\n",
       "sqft_basement    0.192956\n",
       "sqft_lot15       0.094495\n",
       "yr_built         0.068318\n",
       "sqft_lot         0.057850\n",
       "long             0.057550\n",
       "condition        0.050890\n",
       "id               0.003286\n",
       "age              0.068318\n",
       "waterfront            NaN\n",
       "view                  NaN\n",
       "yr_renovated          NaN\n",
       "Name: price, dtype: float64"
      ]
     },
     "execution_count": 32,
     "metadata": {},
     "output_type": "execute_result"
    }
   ],
   "source": [
    "abs(df.corr(numeric_only=True)['price'].sort_values(ascending=False))"
   ]
  },
  {
   "cell_type": "code",
   "execution_count": 33,
   "id": "90eba960-6cf7-4590-bb51-976e97ec9150",
   "metadata": {},
   "outputs": [
    {
     "data": {
      "text/plain": [
       "<Axes: xlabel='sqft_above', ylabel='Density'>"
      ]
     },
     "execution_count": 33,
     "metadata": {},
     "output_type": "execute_result"
    },
    {
     "data": {
      "image/png": "[encoded data removed]",
      "text/plain": [
       "<Figure size 640x480 with 1 Axes>"
      ]
     },
     "metadata": {},
     "output_type": "display_data"
    }
   ],
   "source": [
    "sns.kdeplot(x=df['sqft_above'])"
   ]
  },
  {
   "cell_type": "code",
   "execution_count": 34,
   "id": "ce693a4d-1a50-40a6-bd42-0263f6495ac6",
   "metadata": {},
   "outputs": [
    {
     "data": {
      "text/plain": [
       "(17830, 22)"
      ]
     },
     "execution_count": 34,
     "metadata": {},
     "output_type": "execute_result"
    }
   ],
   "source": [
    "df.shape"
   ]
  },
  {
   "cell_type": "code",
   "execution_count": null,
   "id": "78df0d9f-2cf3-4dd2-8785-72ffc1aef49c",
   "metadata": {},
   "outputs": [],
   "source": []
  },
  {
   "cell_type": "code",
   "execution_count": null,
   "id": "3b8bfe9f-7ce0-4ca6-82c6-e3df1a7b355a",
   "metadata": {},
   "outputs": [],
   "source": []
  },
  {
   "cell_type": "code",
   "execution_count": null,
   "id": "cbcedd45-c496-42d8-9da9-06103990d0a1",
   "metadata": {},
   "outputs": [],
   "source": []
  },
  {
   "cell_type": "code",
   "execution_count": null,
   "id": "3731f56d-9676-4f23-a513-079b09414208",
   "metadata": {},
   "outputs": [],
   "source": []
  },
  {
   "cell_type": "code",
   "execution_count": null,
   "id": "a2166cf7-60aa-4bf7-8b26-ec89a51e7cb2",
   "metadata": {},
   "outputs": [],
   "source": []
  },
  {
   "cell_type": "code",
   "execution_count": null,
   "id": "2305425f-9e9e-411b-9aef-2ce1a7c8523b",
   "metadata": {},
   "outputs": [],
   "source": []
  },
  {
   "cell_type": "code",
   "execution_count": null,
   "id": "2183cf8d-eb1b-4e4a-8ef8-f7f083cca18d",
   "metadata": {},
   "outputs": [],
   "source": []
  },
  {
   "cell_type": "code",
   "execution_count": null,
   "id": "cd3aeec0-56b2-419b-908d-a48b584a6c55",
   "metadata": {},
   "outputs": [],
   "source": []
  },
  {
   "cell_type": "code",
   "execution_count": null,
   "id": "95ebc4d1-77fa-4aac-ba0f-b97d3095ed1d",
   "metadata": {},
   "outputs": [],
   "source": []
  },
  {
   "cell_type": "code",
   "execution_count": null,
   "id": "557c29a6-4905-4f8a-9885-bbc963727355",
   "metadata": {},
   "outputs": [],
   "source": []
  },
  {
   "cell_type": "code",
   "execution_count": null,
   "id": "6f1584cc-6459-4a14-93bc-ca90a8d67dc5",
   "metadata": {},
   "outputs": [],
   "source": []
  },
  {
   "cell_type": "code",
   "execution_count": null,
   "id": "f13da80b-8f60-41b9-a98a-3c73e4ca7b27",
   "metadata": {},
   "outputs": [],
   "source": []
  },
  {
   "cell_type": "code",
   "execution_count": null,
   "id": "4ef5eb32-4029-4092-9851-c8500003f4ba",
   "metadata": {},
   "outputs": [],
   "source": []
  }
 ],
 "metadata": {
  "kernelspec": {
   "display_name": "Python [conda env:base] *",
   "language": "python",
   "name": "conda-base-py"
  },
  "language_info": {
   "codemirror_mode": {
    "name": "ipython",
    "version": 3
   },
   "file_extension": ".py",
   "mimetype": "text/x-python",
   "name": "python",
   "nbconvert_exporter": "python",
   "pygments_lexer": "ipython3",
   "version": "3.12.7"
  }
 },
 "nbformat": 4,
 "nbformat_minor": 5
}
